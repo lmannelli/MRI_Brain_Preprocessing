{
 "cells": [
  {
   "attachments": {},
   "cell_type": "markdown",
   "metadata": {},
   "source": [
    "### Bias Field Correction"
   ]
  },
  {
   "attachments": {},
   "cell_type": "markdown",
   "metadata": {},
   "source": [
    "**Learning outcomes:**\n",
    "- Learn how to apply Bias Field Correction to an image using SITK.\n",
    "- Inspect Bias Field visually."
   ]
  },
  {
   "cell_type": "code",
   "execution_count": 1,
   "metadata": {},
   "outputs": [
    {
     "name": "stdout",
     "output_type": "stream",
     "text": [
      "AntsPy version = 0.4.2\n",
      "SimpleITK version = 2.3.1\n"
     ]
    }
   ],
   "source": [
    "%matplotlib inline\n",
    "\n",
    "import os\n",
    "from help_functions import *\n",
    "\n",
    "import ants\n",
    "import SimpleITK as sitk\n",
    "\n",
    "print(f'AntsPy version = {ants.__version__}')\n",
    "print(f'SimpleITK version = {sitk.__version__}')"
   ]
  },
  {
   "cell_type": "code",
   "execution_count": 2,
   "metadata": {},
   "outputs": [
    {
     "name": "stdout",
     "output_type": "stream",
     "text": [
      "project folder = c:\\Users\\Windows\\Desktop\\GBM_Segmentation\n"
     ]
    }
   ],
   "source": [
    "BASE_DIR = os.path.dirname(os.path.dirname(os.path.abspath(\"__file__\")))\n",
    "print(f'project folder = {BASE_DIR}')"
   ]
  },
  {
   "cell_type": "code",
   "execution_count": 3,
   "metadata": {},
   "outputs": [
    {
     "name": "stdout",
     "output_type": "stream",
     "text": [
      "raw_img_path = c:\\Users\\Windows\\Desktop\\GBM_Segmentation\\Brain_Extraction\\sub-01\\anat\\sub-01_T1w.nii\n"
     ]
    }
   ],
   "source": [
    "raw_img_path = os.path.join(BASE_DIR, 'Brain_Extraction', 'sub-01', 'anat', 'sub-01_T1w.nii')\n",
    "print(f'raw_img_path = {raw_img_path}')"
   ]
  },
  {
   "attachments": {},
   "cell_type": "markdown",
   "metadata": {},
   "source": [
    "#### Load image"
   ]
  },
  {
   "cell_type": "code",
   "execution_count": 4,
   "metadata": {},
   "outputs": [
    {
     "name": "stdout",
     "output_type": "stream",
     "text": [
      "shape = (320, 300, 208) -> (Z, X, Y)\n"
     ]
    },
    {
     "data": {
      "application/vnd.jupyter.widget-view+json": {
       "model_id": "c422da847aa24874aa55d503596272d0",
       "version_major": 2,
       "version_minor": 0
      },
      "text/plain": [
       "interactive(children=(IntSlider(value=159, description='SLICE', max=319), Output()), _dom_classes=('widget-int…"
      ]
     },
     "metadata": {},
     "output_type": "display_data"
    }
   ],
   "source": [
    "raw_img_sitk = sitk.ReadImage(raw_img_path, sitk.sitkFloat32)\n",
    "raw_img_sitk = sitk.DICOMOrient(raw_img_sitk,'RPS')\n",
    "\n",
    "raw_img_sitk_arr = sitk.GetArrayFromImage(raw_img_sitk)\n",
    "print(f'shape = {raw_img_sitk_arr.shape} -> (Z, X, Y)')\n",
    "explore_3D_array(raw_img_sitk_arr, cmap='nipy_spectral')"
   ]
  },
  {
   "attachments": {},
   "cell_type": "markdown",
   "metadata": {},
   "source": [
    "#### Create head mask"
   ]
  },
  {
   "cell_type": "code",
   "execution_count": 5,
   "metadata": {},
   "outputs": [
    {
     "data": {
      "application/vnd.jupyter.widget-view+json": {
       "model_id": "479eba9ebbd947ffa61d2a72d3cef7ec",
       "version_major": 2,
       "version_minor": 0
      },
      "text/plain": [
       "interactive(children=(IntSlider(value=159, description='SLICE', max=319), Output()), _dom_classes=('widget-int…"
      ]
     },
     "metadata": {},
     "output_type": "display_data"
    }
   ],
   "source": [
    "transformed = sitk.RescaleIntensity(raw_img_sitk, 0, 255)\n",
    "\n",
    "#transformed = sitk.TriangleThreshold(transformed, 0, 1)\n",
    "transformed = sitk.LiThreshold(transformed,0,1)\n",
    "\n",
    "head_mask = transformed\n",
    "\n",
    "explore_3D_array_comparison(\n",
    "    arr_before=sitk.GetArrayFromImage(raw_img_sitk),\n",
    "    arr_after=sitk.GetArrayFromImage(head_mask)\n",
    ")"
   ]
  },
  {
   "attachments": {},
   "cell_type": "markdown",
   "metadata": {},
   "source": [
    "#### Bias Correction"
   ]
  },
  {
   "cell_type": "code",
   "execution_count": 6,
   "metadata": {},
   "outputs": [],
   "source": [
    "shrinkFactor = 4\n",
    "inputImage = raw_img_sitk\n",
    "\n",
    "inputImage = sitk.Shrink( raw_img_sitk, [ shrinkFactor ] * inputImage.GetDimension() )\n",
    "maskImage = sitk.Shrink( head_mask, [ shrinkFactor ] * inputImage.GetDimension() )\n",
    "\n",
    "bias_corrector = sitk.N4BiasFieldCorrectionImageFilter()\n",
    "\n",
    "corrected = bias_corrector.Execute(inputImage, maskImage)"
   ]
  },
  {
   "attachments": {},
   "cell_type": "markdown",
   "metadata": {},
   "source": [
    "#### Get image corrected"
   ]
  },
  {
   "cell_type": "code",
   "execution_count": 7,
   "metadata": {},
   "outputs": [
    {
     "data": {
      "application/vnd.jupyter.widget-view+json": {
       "model_id": "8132bf87b08041ad9101d05d03315c12",
       "version_major": 2,
       "version_minor": 0
      },
      "text/plain": [
       "interactive(children=(IntSlider(value=159, description='SLICE', max=319), Output()), _dom_classes=('widget-int…"
      ]
     },
     "metadata": {},
     "output_type": "display_data"
    }
   ],
   "source": [
    "log_bias_field = bias_corrector.GetLogBiasFieldAsImage(raw_img_sitk)\n",
    "corrected_image_full_resolution = raw_img_sitk / sitk.Exp( log_bias_field )\n",
    "\n",
    "explore_3D_array_comparison(\n",
    "    sitk.GetArrayFromImage(raw_img_sitk),\n",
    "    sitk.GetArrayFromImage(corrected_image_full_resolution), \n",
    "    cmap='nipy_spectral')\n"
   ]
  },
  {
   "attachments": {},
   "cell_type": "markdown",
   "metadata": {},
   "source": [
    "#### Inspect the bias field"
   ]
  },
  {
   "cell_type": "code",
   "execution_count": 8,
   "metadata": {},
   "outputs": [
    {
     "data": {
      "application/vnd.jupyter.widget-view+json": {
       "model_id": "80aed68364dd4e679255aece0ae70f06",
       "version_major": 2,
       "version_minor": 0
      },
      "text/plain": [
       "interactive(children=(IntSlider(value=159, description='SLICE', max=319), Output()), _dom_classes=('widget-int…"
      ]
     },
     "metadata": {},
     "output_type": "display_data"
    }
   ],
   "source": [
    "# bias field\n",
    "temp = sitk.Exp(log_bias_field)\n",
    "temp = sitk.Mask(temp, head_mask)\n",
    "explore_3D_array(sitk.GetArrayFromImage(temp), cmap='gray')"
   ]
  },
  {
   "attachments": {},
   "cell_type": "markdown",
   "metadata": {},
   "source": [
    "#### Save the image"
   ]
  },
  {
   "cell_type": "code",
   "execution_count": 10,
   "metadata": {},
   "outputs": [
    {
     "name": "stdout",
     "output_type": "stream",
     "text": [
      "\\Brain_Extraction\\sub-01\\anat\\sub-01_T1w.nii\n",
      "\\Brain_Extraction\\preprocessed\\Preprocessed_image\\sub-01_T1w_biasFieldCorrected.nii\n"
     ]
    }
   ],
   "source": [
    "out_folder =  os.path.join(BASE_DIR, 'Brain_Extraction', 'preprocessed')\n",
    "out_folder = os.path.join(out_folder, 'Preprocessed_image') # create folder with name of the raw file\n",
    "os.makedirs(out_folder, exist_ok=True) # create folder if not exists\n",
    "\n",
    "out_filename = add_suffix_to_filename('sub-01_T1w.nii', suffix='biasFieldCorrected')\n",
    "out_path = os.path.join(out_folder, out_filename)\n",
    "\n",
    "print(raw_img_path[len(BASE_DIR):])\n",
    "print(out_path[len(BASE_DIR):])"
   ]
  },
  {
   "cell_type": "code",
   "execution_count": 11,
   "metadata": {},
   "outputs": [],
   "source": [
    "sitk.WriteImage(corrected_image_full_resolution, out_path)"
   ]
  }
 ],
 "metadata": {
  "interpreter": {
   "hash": "418825faa255fc22419b3421ba9be6bb08852f7738a4e2e9757a921549f74527"
  },
  "kernelspec": {
   "display_name": "Python 3.7.1 ('.venv': venv)",
   "language": "python",
   "name": "python3"
  },
  "language_info": {
   "codemirror_mode": {
    "name": "ipython",
    "version": 3
   },
   "file_extension": ".py",
   "mimetype": "text/x-python",
   "name": "python",
   "nbconvert_exporter": "python",
   "pygments_lexer": "ipython3",
   "version": "3.11.3"
  },
  "orig_nbformat": 4
 },
 "nbformat": 4,
 "nbformat_minor": 2
}
