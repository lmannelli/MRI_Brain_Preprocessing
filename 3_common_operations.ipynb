{
 "cells": [
  {
   "cell_type": "markdown",
   "metadata": {},
   "source": [
    "### Common operations"
   ]
  },
  {
   "cell_type": "markdown",
   "metadata": {},
   "source": [
    "- How to apply basic filters and transformations using AntsPy and SITK:\n",
    "    - Denoise\n",
    "    - Morphological operations\n",
    "    - Shrink\n",
    "    - Cropping\n",
    "    - Padding\n",
    "    - Blurring\n",
    "    - Thresholding\n",
    "    - Statistics"
   ]
  },
  {
   "cell_type": "code",
   "execution_count": 1,
   "metadata": {},
   "outputs": [
    {
     "name": "stdout",
     "output_type": "stream",
     "text": [
      "AntsPy version = 0.4.2\n",
      "SimpleITK version = 2.3.1\n"
     ]
    }
   ],
   "source": [
    "%matplotlib inline\n",
    "\n",
    "import os\n",
    "from help_functions import *\n",
    "\n",
    "import ants\n",
    "import SimpleITK as sitk\n",
    "\n",
    "print(f'AntsPy version = {ants.__version__}')\n",
    "print(f'SimpleITK version = {sitk.__version__}')"
   ]
  },
  {
   "cell_type": "code",
   "execution_count": 2,
   "metadata": {},
   "outputs": [
    {
     "name": "stdout",
     "output_type": "stream",
     "text": [
      "project folder = c:\\Users\\Windows\\Desktop\\GBM_Segmentation\n"
     ]
    }
   ],
   "source": [
    "BASE_DIR = os.path.dirname(os.path.dirname(os.path.abspath(\"__file__\")))\n",
    "print(f'project folder = {BASE_DIR}')"
   ]
  },
  {
   "cell_type": "code",
   "execution_count": 3,
   "metadata": {},
   "outputs": [
    {
     "name": "stdout",
     "output_type": "stream",
     "text": [
      "raw_img_path = c:\\Users\\Windows\\Desktop\\GBM_Segmentation\\Brain_Extraction\\sub-01\\anat\\sub-01_T1w.nii\n"
     ]
    }
   ],
   "source": [
    "raw_img_path = os.path.join(BASE_DIR, 'Brain_Extraction', 'sub-01', 'anat', 'sub-01_T1w.nii')\n",
    "print(f'raw_img_path = {raw_img_path}')"
   ]
  },
  {
   "cell_type": "markdown",
   "metadata": {},
   "source": [
    "### AntsPy"
   ]
  },
  {
   "cell_type": "markdown",
   "metadata": {},
   "source": [
    "#### Raw Image"
   ]
  },
  {
   "cell_type": "code",
   "execution_count": 4,
   "metadata": {},
   "outputs": [
    {
     "name": "stdout",
     "output_type": "stream",
     "text": [
      "shape = (320, 300, 208) -> (Z, X, Y)\n"
     ]
    },
    {
     "data": {
      "application/vnd.jupyter.widget-view+json": {
       "model_id": "553b5ffb64ad4641b54f05bb22473830",
       "version_major": 2,
       "version_minor": 0
      },
      "text/plain": [
       "interactive(children=(IntSlider(value=159, description='SLICE', max=319), Output()), _dom_classes=('widget-int…"
      ]
     },
     "metadata": {},
     "output_type": "display_data"
    }
   ],
   "source": [
    "raw_img_ants = ants.image_read(raw_img_path, reorient='IAL') \n",
    "\n",
    "print(f'shape = {raw_img_ants.numpy().shape} -> (Z, X, Y)')\n",
    "\n",
    "explore_3D_array(\n",
    "    arr=raw_img_ants.numpy(),\n",
    "    cmap='viridis'\n",
    ")"
   ]
  },
  {
   "cell_type": "markdown",
   "metadata": {},
   "source": [
    "#### Denoise"
   ]
  },
  {
   "cell_type": "code",
   "execution_count": 5,
   "metadata": {},
   "outputs": [
    {
     "data": {
      "application/vnd.jupyter.widget-view+json": {
       "model_id": "2ea6129c6654480c8c3657e2e3b720f7",
       "version_major": 2,
       "version_minor": 0
      },
      "text/plain": [
       "interactive(children=(IntSlider(value=159, description='SLICE', max=319), Output()), _dom_classes=('widget-int…"
      ]
     },
     "metadata": {},
     "output_type": "display_data"
    }
   ],
   "source": [
    "transformed = ants.denoise_image(raw_img_ants, shrink_factor=8)\n",
    "\n",
    "explore_3D_array_comparison(\n",
    "    arr_before=raw_img_ants.numpy(),\n",
    "    arr_after=transformed.numpy(),\n",
    "    cmap='viridis'\n",
    ")"
   ]
  },
  {
   "cell_type": "markdown",
   "metadata": {},
   "source": [
    "#### Morphological operations"
   ]
  },
  {
   "cell_type": "code",
   "execution_count": 6,
   "metadata": {},
   "outputs": [
    {
     "data": {
      "application/vnd.jupyter.widget-view+json": {
       "model_id": "941f4345ba294aa4928266173525c1c9",
       "version_major": 2,
       "version_minor": 0
      },
      "text/plain": [
       "interactive(children=(IntSlider(value=159, description='SLICE', max=319), Output()), _dom_classes=('widget-int…"
      ]
     },
     "metadata": {},
     "output_type": "display_data"
    }
   ],
   "source": [
    "\"\"\"\n",
    "operation to apply\n",
    "    \"close\" Morphological closing\n",
    "    \"dilate\" Morphological dilation\n",
    "    \"erode\" Morphological erosion\n",
    "    \"open\" Morphological opening\n",
    "\"\"\"\n",
    "\n",
    "transformed = ants.morphology(raw_img_ants, radius=1, operation='erode', mtype='grayscale')\n",
    "\n",
    "explore_3D_array_comparison(\n",
    "    arr_before=raw_img_ants.numpy(),\n",
    "    arr_after=transformed.numpy(),\n",
    "    cmap='viridis'\n",
    ")"
   ]
  },
  {
   "cell_type": "markdown",
   "metadata": {},
   "source": [
    "### Simple ITK"
   ]
  },
  {
   "cell_type": "markdown",
   "metadata": {},
   "source": [
    "#### Raw Image"
   ]
  },
  {
   "cell_type": "code",
   "execution_count": 14,
   "metadata": {},
   "outputs": [
    {
     "name": "stdout",
     "output_type": "stream",
     "text": [
      "shape = (320, 300, 208) -> (Z, X, Y)\n"
     ]
    },
    {
     "data": {
      "application/vnd.jupyter.widget-view+json": {
       "model_id": "71cf40eeac2d491996cb4b8db7aaa18a",
       "version_major": 2,
       "version_minor": 0
      },
      "text/plain": [
       "interactive(children=(IntSlider(value=159, description='SLICE', max=319), Output()), _dom_classes=('widget-int…"
      ]
     },
     "metadata": {},
     "output_type": "display_data"
    }
   ],
   "source": [
    "raw_img_sitk = sitk.ReadImage(raw_img_path, sitk.sitkFloat32)\n",
    "raw_img_sitk = sitk.DICOMOrient(raw_img_sitk,'RPS')\n",
    "\n",
    "print(f'shape = {sitk.GetArrayFromImage(raw_img_sitk).shape} -> (Z, X, Y)')\n",
    "explore_3D_array(\n",
    "    arr=sitk.GetArrayFromImage(raw_img_sitk),\n",
    "    cmap='viridis'\n",
    ")"
   ]
  },
  {
   "cell_type": "markdown",
   "metadata": {},
   "source": [
    "#### Shrink"
   ]
  },
  {
   "cell_type": "code",
   "execution_count": 8,
   "metadata": {},
   "outputs": [
    {
     "name": "stdout",
     "output_type": "stream",
     "text": [
      "shape before = (320, 300, 208)\n",
      "shape after = (106, 100, 69)\n"
     ]
    },
    {
     "data": {
      "application/vnd.jupyter.widget-view+json": {
       "model_id": "0c59bb2e0236466eb5b4009a2a33754f",
       "version_major": 2,
       "version_minor": 0
      },
      "text/plain": [
       "interactive(children=(IntSlider(value=52, description='SLICE', max=105), Output()), _dom_classes=('widget-inte…"
      ]
     },
     "metadata": {},
     "output_type": "display_data"
    }
   ],
   "source": [
    "shrinkFactor = 3\n",
    "transformed = sitk.Shrink( raw_img_sitk, [ shrinkFactor ] * raw_img_sitk.GetDimension() )\n",
    "\n",
    "print(f'shape before = {sitk.GetArrayFromImage(raw_img_sitk).shape}')\n",
    "print(f'shape after = {sitk.GetArrayFromImage(transformed).shape}')\n",
    "\n",
    "explore_3D_array(sitk.GetArrayFromImage(transformed))"
   ]
  },
  {
   "cell_type": "markdown",
   "metadata": {},
   "source": [
    "#### Crop"
   ]
  },
  {
   "cell_type": "code",
   "execution_count": 12,
   "metadata": {},
   "outputs": [
    {
     "name": "stdout",
     "output_type": "stream",
     "text": [
      "shape before = (320, 300, 208)\n",
      "shape after = (230, 300, 208)\n"
     ]
    },
    {
     "data": {
      "application/vnd.jupyter.widget-view+json": {
       "model_id": "a75bfedeeb824c42aa9122b82d2e106a",
       "version_major": 2,
       "version_minor": 0
      },
      "text/plain": [
       "interactive(children=(IntSlider(value=114, description='SLICE', max=229), Output()), _dom_classes=('widget-int…"
      ]
     },
     "metadata": {},
     "output_type": "display_data"
    }
   ],
   "source": [
    "# Cropping takes the orientation of the pixels for the reference of lower & upper boundaries vectors\n",
    "# Pixel orientation = RPS = (left-to-Right, anterior-to-Posterior, inferior-to-Superior)\n",
    "\n",
    "# crop nothing\n",
    "#transformed = sitk.Crop(raw_img_sitk)\n",
    "#transformed = sitk.Crop(raw_img_sitk, (0,0,0), (0,0,0))\n",
    "\n",
    "# crop 20 from left to right             X,Y,Z\n",
    "#transformed = sitk.Crop(raw_img_sitk, (20,0,0), (0,0,0))\n",
    "\n",
    "# crop 20 from left to right, crop 30 from anterior to posterior\n",
    "#transformed = sitk.Crop(raw_img_sitk, (20,30,0), (0,0,0))\n",
    "\n",
    "# crop 20 from left to right, crop 30 from anterior to posterior, \n",
    "# crop 10 from right to left, crop 5 from posterior to anterior. \n",
    "#transformed = sitk.Crop(raw_img_sitk, (20,30,0), (10,5,0)) \n",
    "\n",
    "# crop 40 from inferior to superior, crop 50 from superior to inferior\n",
    "transformed = sitk.Crop(raw_img_sitk, (0,0,40), (0,0,50)) \n",
    "\n",
    "\n",
    "print(f'shape before = {sitk.GetArrayFromImage(raw_img_sitk).shape}')\n",
    "print(f'shape after = {sitk.GetArrayFromImage(transformed).shape}')\n",
    "\n",
    "explore_3D_array(sitk.GetArrayFromImage(transformed))"
   ]
  },
  {
   "cell_type": "markdown",
   "metadata": {},
   "source": [
    "#### Padding"
   ]
  },
  {
   "cell_type": "code",
   "execution_count": 15,
   "metadata": {},
   "outputs": [
    {
     "data": {
      "text/plain": [
       "0"
      ]
     },
     "execution_count": 15,
     "metadata": {},
     "output_type": "execute_result"
    }
   ],
   "source": [
    "constant = int(sitk.GetArrayFromImage(raw_img_sitk).min())\n",
    "constant"
   ]
  },
  {
   "cell_type": "code",
   "execution_count": 16,
   "metadata": {},
   "outputs": [
    {
     "name": "stdout",
     "output_type": "stream",
     "text": [
      "shape before = (320, 300, 208)\n",
      "shape after = (320, 323, 223)\n"
     ]
    },
    {
     "data": {
      "application/vnd.jupyter.widget-view+json": {
       "model_id": "de20dc3cd7804736bdf5628e1e4c9007",
       "version_major": 2,
       "version_minor": 0
      },
      "text/plain": [
       "interactive(children=(IntSlider(value=159, description='SLICE', max=319), Output()), _dom_classes=('widget-int…"
      ]
     },
     "metadata": {},
     "output_type": "display_data"
    }
   ],
   "source": [
    "# Padding (as Cropping) takes the orientation of the pixels for the reference of lower & upper boundaries vectors\n",
    "# Pixel orientation = RPS = (left-to-Right, anterior-to-Posterior, inferior-to-Superior)\n",
    "\n",
    "# pad nothing\n",
    "#transformed = sitk.ConstantPad(raw_img_sitk)\n",
    "#transformed = sitk.ConstantPad(raw_img_sitk,(0,0,0),(0,0,0), constant)\n",
    "\n",
    "# pad 10 from left to right\n",
    "#transformed = sitk.ConstantPad(raw_img_sitk,(10,0,0),(0,0,0),constant)\n",
    "\n",
    "# pad 10 from left to right, pad 15 from anterior to posterior\n",
    "#transformed = sitk.ConstantPad(raw_img_sitk,(10,15,0),(0,0,0),constant)\n",
    "\n",
    "# pad 10 from left to right, pad 15 from anterior to posterior, \n",
    "# pad 5 from right to left, pad 8 from posterior to anterior. \n",
    "transformed = sitk.ConstantPad(raw_img_sitk,(10,15,0),(5,8,0),constant)\n",
    "\n",
    "\n",
    "print(f'shape before = {sitk.GetArrayFromImage(raw_img_sitk).shape}')\n",
    "print(f'shape after = {sitk.GetArrayFromImage(transformed).shape}')\n",
    "\n",
    "explore_3D_array(sitk.GetArrayFromImage(transformed), cmap='viridis')"
   ]
  },
  {
   "cell_type": "markdown",
   "metadata": {},
   "source": [
    "#### Denoise"
   ]
  },
  {
   "cell_type": "markdown",
   "metadata": {},
   "source": [
    "Curvature Flow filter"
   ]
  },
  {
   "cell_type": "code",
   "execution_count": 17,
   "metadata": {},
   "outputs": [
    {
     "data": {
      "application/vnd.jupyter.widget-view+json": {
       "model_id": "7662a0d16f3d46a9b46a3c9080ad7fef",
       "version_major": 2,
       "version_minor": 0
      },
      "text/plain": [
       "interactive(children=(IntSlider(value=159, description='SLICE', max=319), Output()), _dom_classes=('widget-int…"
      ]
     },
     "metadata": {},
     "output_type": "display_data"
    }
   ],
   "source": [
    "transformed = sitk.CurvatureFlow(raw_img_sitk)\n",
    "\n",
    "explore_3D_array_comparison(\n",
    "    arr_before=sitk.GetArrayFromImage(raw_img_sitk),\n",
    "    arr_after=sitk.GetArrayFromImage(transformed),\n",
    "    cmap='viridis'\n",
    ")"
   ]
  },
  {
   "cell_type": "markdown",
   "metadata": {},
   "source": [
    "#### Morphological Operations"
   ]
  },
  {
   "cell_type": "code",
   "execution_count": 18,
   "metadata": {},
   "outputs": [
    {
     "data": {
      "application/vnd.jupyter.widget-view+json": {
       "model_id": "27d9b7d951cf4b10813e27915b26a8d1",
       "version_major": 2,
       "version_minor": 0
      },
      "text/plain": [
       "interactive(children=(IntSlider(value=159, description='SLICE', max=319), Output()), _dom_classes=('widget-int…"
      ]
     },
     "metadata": {},
     "output_type": "display_data"
    }
   ],
   "source": [
    "\"\"\"\n",
    "sitk.GrayscaleMorphologicalClosing\n",
    "sitk.GrayscaleDilate\n",
    "sitk.GrayscaleErode\n",
    "sitk.GrayscaleMorphologicalOpening\n",
    "\n",
    "sitk.BinaryMorphologicalClosing\n",
    "sitk.BinaryDilate\n",
    "sitk.BinaryErode\n",
    "sitk.BinaryMorphologicalOpening\n",
    "\"\"\"\n",
    "\n",
    "transformed = sitk.GrayscaleErode(raw_img_sitk)\n",
    "\n",
    "explore_3D_array_comparison(\n",
    "    arr_before=sitk.GetArrayFromImage(raw_img_sitk),\n",
    "    arr_after=sitk.GetArrayFromImage(transformed),\n",
    "    cmap='viridis'\n",
    ")"
   ]
  },
  {
   "cell_type": "markdown",
   "metadata": {},
   "source": [
    "#### Blurring"
   ]
  },
  {
   "cell_type": "code",
   "execution_count": 19,
   "metadata": {},
   "outputs": [
    {
     "data": {
      "application/vnd.jupyter.widget-view+json": {
       "model_id": "255ba4cca006445d942bffd81a528bbc",
       "version_major": 2,
       "version_minor": 0
      },
      "text/plain": [
       "interactive(children=(IntSlider(value=159, description='SLICE', max=319), Output()), _dom_classes=('widget-int…"
      ]
     },
     "metadata": {},
     "output_type": "display_data"
    }
   ],
   "source": [
    "transformed = sitk.DiscreteGaussian(raw_img_sitk)\n",
    "\n",
    "explore_3D_array_comparison(\n",
    "    arr_before=sitk.GetArrayFromImage(raw_img_sitk),\n",
    "    arr_after=sitk.GetArrayFromImage(transformed),\n",
    "    cmap='viridis'\n",
    ")"
   ]
  },
  {
   "cell_type": "markdown",
   "metadata": {},
   "source": [
    "#### Thresholding"
   ]
  },
  {
   "cell_type": "code",
   "execution_count": 21,
   "metadata": {},
   "outputs": [
    {
     "data": {
      "application/vnd.jupyter.widget-view+json": {
       "model_id": "babf794078224d04aacd605844dcb153",
       "version_major": 2,
       "version_minor": 0
      },
      "text/plain": [
       "interactive(children=(IntSlider(value=159, description='SLICE', max=319), Output()), _dom_classes=('widget-int…"
      ]
     },
     "metadata": {},
     "output_type": "display_data"
    }
   ],
   "source": [
    "\"\"\"\n",
    "sitk.OtsuThreshold\n",
    "sitk.LiThreshold\n",
    "sitk.TriangleThreshold\n",
    "sitk.MomentsThreshold\n",
    "\"\"\"\n",
    "\n",
    "transformed = sitk.OtsuThreshold(raw_img_sitk, 0, 1)\n",
    "\n",
    "explore_3D_array_comparison(\n",
    "    arr_before=sitk.GetArrayFromImage(raw_img_sitk),\n",
    "    arr_after=sitk.GetArrayFromImage(transformed)\n",
    ")"
   ]
  },
  {
   "cell_type": "markdown",
   "metadata": {},
   "source": [
    "#### Statistics"
   ]
  },
  {
   "cell_type": "code",
   "execution_count": 22,
   "metadata": {},
   "outputs": [
    {
     "name": "stdout",
     "output_type": "stream",
     "text": [
      "\tRaw img\n",
      "min  = 0.0\n",
      "max  = 550.0\n",
      "mean = 52.49758748998397\n"
     ]
    }
   ],
   "source": [
    "stats = sitk.StatisticsImageFilter()\n",
    "stats.Execute(raw_img_sitk)\n",
    "\n",
    "\n",
    "print('\\tRaw img')\n",
    "print(\"min  =\", stats.GetMinimum())\n",
    "print(\"max  =\", stats.GetMaximum())\n",
    "print(\"mean =\", stats.GetMean())\n"
   ]
  }
 ],
 "metadata": {
  "interpreter": {
   "hash": "418825faa255fc22419b3421ba9be6bb08852f7738a4e2e9757a921549f74527"
  },
  "kernelspec": {
   "display_name": "Python 3.7.1 ('.venv': venv)",
   "language": "python",
   "name": "python3"
  },
  "language_info": {
   "codemirror_mode": {
    "name": "ipython",
    "version": 3
   },
   "file_extension": ".py",
   "mimetype": "text/x-python",
   "name": "python",
   "nbconvert_exporter": "python",
   "pygments_lexer": "ipython3",
   "version": "3.11.3"
  },
  "orig_nbformat": 4
 },
 "nbformat": 4,
 "nbformat_minor": 2
}
