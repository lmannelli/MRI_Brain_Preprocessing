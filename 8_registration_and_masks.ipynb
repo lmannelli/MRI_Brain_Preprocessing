{
 "cells": [
  {
   "attachments": {},
   "cell_type": "markdown",
   "metadata": {},
   "source": [
    "### Registration and masks"
   ]
  },
  {
   "attachments": {},
   "cell_type": "markdown",
   "metadata": {},
   "source": [
    "**Learning outcomes:**\n",
    "- How to apply registration to an image and its corresponding mask using ants."
   ]
  },
  {
   "cell_type": "code",
   "execution_count": 1,
   "metadata": {},
   "outputs": [
    {
     "name": "stdout",
     "output_type": "stream",
     "text": [
      "AntsPy version = 0.4.2\n",
      "SimpleITK version = 2.3.1\n"
     ]
    }
   ],
   "source": [
    "%matplotlib inline\n",
    "\n",
    "import os\n",
    "from help_functions import *\n",
    "\n",
    "import ants\n",
    "import SimpleITK as sitk\n",
    "\n",
    "print(f'AntsPy version = {ants.__version__}')\n",
    "print(f'SimpleITK version = {sitk.__version__}')"
   ]
  },
  {
   "cell_type": "code",
   "execution_count": 2,
   "metadata": {},
   "outputs": [
    {
     "name": "stdout",
     "output_type": "stream",
     "text": [
      "project folder = c:\\Users\\Windows\\Desktop\\GBM_Segmentation\n"
     ]
    }
   ],
   "source": [
    "BASE_DIR = os.path.dirname(os.path.dirname(os.path.abspath(\"__file__\")))\n",
    "print(f'project folder = {BASE_DIR}')"
   ]
  },
  {
   "cell_type": "markdown",
   "metadata": {},
   "source": [
    "#### Raw image"
   ]
  },
  {
   "cell_type": "code",
   "execution_count": 3,
   "metadata": {},
   "outputs": [
    {
     "data": {
      "application/vnd.jupyter.widget-view+json": {
       "model_id": "41ac18f05a9d49c0b523b90b5a5941f9",
       "version_major": 2,
       "version_minor": 0
      },
      "text/plain": [
       "interactive(children=(IntSlider(value=95, description='SLICE', max=191), Output()), _dom_classes=('widget-inte…"
      ]
     },
     "metadata": {},
     "output_type": "display_data"
    }
   ],
   "source": [
    "raw_img_path = os.path.join(BASE_DIR, 'Brain_Extraction', 'Template', 'mni_icbm152_nlin_sym_09a', 'brain-lesion_T1w.nii')\n",
    "raw_img_ants = ants.image_read(raw_img_path, reorient='IAL')\n",
    "\n",
    "explore_3D_array(arr=raw_img_ants.numpy())"
   ]
  },
  {
   "cell_type": "code",
   "execution_count": 4,
   "metadata": {},
   "outputs": [
    {
     "data": {
      "application/vnd.jupyter.widget-view+json": {
       "model_id": "077733b5b3804060ab58349147698838",
       "version_major": 2,
       "version_minor": 0
      },
      "text/plain": [
       "interactive(children=(IntSlider(value=95, description='SLICE', max=191), Output()), _dom_classes=('widget-inte…"
      ]
     },
     "metadata": {},
     "output_type": "display_data"
    }
   ],
   "source": [
    "mask_img_path = os.path.join(BASE_DIR,  'Brain_Extraction', 'Template', 'mni_icbm152_nlin_sym_09a', 'brain-lesion_T1w_mask.nii')\n",
    "mask_img_ants = ants.image_read(mask_img_path, reorient='IAL')\n",
    "\n",
    "explore_3D_array_with_mask_contour(\n",
    "    arr=raw_img_ants.numpy(),\n",
    "    mask=mask_img_ants.numpy()\n",
    ")"
   ]
  },
  {
   "cell_type": "markdown",
   "metadata": {},
   "source": [
    "#### Template image"
   ]
  },
  {
   "cell_type": "code",
   "execution_count": 5,
   "metadata": {},
   "outputs": [
    {
     "data": {
      "application/vnd.jupyter.widget-view+json": {
       "model_id": "281692e7d3c64fee9bd31249c12837d4",
       "version_major": 2,
       "version_minor": 0
      },
      "text/plain": [
       "interactive(children=(IntSlider(value=94, description='SLICE', max=188), Output()), _dom_classes=('widget-inte…"
      ]
     },
     "metadata": {},
     "output_type": "display_data"
    }
   ],
   "source": [
    "template_img_path = os.path.join(BASE_DIR, 'Brain_Extraction', 'Template', 'mni_icbm152_nlin_sym_09a', 'mni_icbm152_t1_tal_nlin_sym_09a.nii')\n",
    "template_img_ants = ants.image_read(template_img_path, reorient='IAL')\n",
    "\n",
    "explore_3D_array(arr = template_img_ants.numpy())"
   ]
  },
  {
   "cell_type": "code",
   "execution_count": 6,
   "metadata": {},
   "outputs": [
    {
     "name": "stdout",
     "output_type": "stream",
     "text": [
      "\t\tRAW IMG\n",
      "ANTsImage (IAL)\n",
      "\t Pixel Type : float (float32)\n",
      "\t Components : 1\n",
      "\t Dimensions : (192, 192, 160)\n",
      "\t Spacing    : (1.25, 1.25, 1.2)\n",
      "\t Origin     : (98.1114, -149.1525, -129.5975)\n",
      "\t Direction  : [-0.  0. -1.  0.  1.  0.  1.  0.  0.]\n",
      "\n",
      "\t\tTEMPLATE IMG\n",
      "ANTsImage (IAL)\n",
      "\t Pixel Type : float (float32)\n",
      "\t Components : 1\n",
      "\t Dimensions : (189, 233, 197)\n",
      "\t Spacing    : (1.0, 1.0, 1.0)\n",
      "\t Origin     : (98.0, -98.0, -72.0)\n",
      "\t Direction  : [ 0.  0. -1.  0.  1.  0.  1.  0.  0.]\n",
      "\n"
     ]
    }
   ],
   "source": [
    "print('\\t\\tRAW IMG')\n",
    "print(raw_img_ants)\n",
    "\n",
    "print('\\t\\tTEMPLATE IMG')\n",
    "print(template_img_ants)\n"
   ]
  },
  {
   "cell_type": "markdown",
   "metadata": {},
   "source": [
    "#### Registration"
   ]
  },
  {
   "cell_type": "code",
   "execution_count": 7,
   "metadata": {},
   "outputs": [
    {
     "name": "stdout",
     "output_type": "stream",
     "text": [
      "antsRegistration -d 3 -r [00000163AFF59990,00000163AFF59CB0,1] -m mattes[00000163AFF59990,00000163AFF59CB0,1,32,regular,0.2] -t Affine[0.25] -c 2100x1200x1200x0 -s 3x2x1x0 -f 4x2x2x1 -x [NA,NA] -m mattes[00000163AFF59990,00000163AFF59CB0,1,32] -t SyN[0.200000,3.000000,0.000000] -c [40x20x0,1e-7,8] -s 2x1x0 -f 4x2x1 -u 1 -z 1 -o [C:\\Users\\Windows\\AppData\\Local\\Temp\\tmp4v5kom0r,00000163AFF59A20,00000163AFF59B30] -x [NA,NA] --float 1 --write-composite-transform 0 -v 1\n"
     ]
    }
   ],
   "source": [
    "transformation = ants.registration(\n",
    "    fixed=template_img_ants,\n",
    "    moving=raw_img_ants, \n",
    "    type_of_transform='SyN',\n",
    "    verbose=True\n",
    ")"
   ]
  },
  {
   "cell_type": "code",
   "execution_count": 8,
   "metadata": {},
   "outputs": [
    {
     "name": "stdout",
     "output_type": "stream",
     "text": [
      "{'warpedmovout': ANTsImage (IAL)\n",
      "\t Pixel Type : float (float32)\n",
      "\t Components : 1\n",
      "\t Dimensions : (189, 233, 197)\n",
      "\t Spacing    : (1.0, 1.0, 1.0)\n",
      "\t Origin     : (98.0, -98.0, -72.0)\n",
      "\t Direction  : [-0.  0. -1.  0.  1.  0.  1.  0.  0.]\n",
      ", 'warpedfixout': ANTsImage (IAL)\n",
      "\t Pixel Type : float (float32)\n",
      "\t Components : 1\n",
      "\t Dimensions : (192, 192, 160)\n",
      "\t Spacing    : (1.25, 1.25, 1.2)\n",
      "\t Origin     : (98.1114, -149.1525, -129.5975)\n",
      "\t Direction  : [ 0.  0. -1.  0.  1.  0.  1.  0.  0.]\n",
      ", 'fwdtransforms': ['C:\\\\Users\\\\Windows\\\\AppData\\\\Local\\\\Temp\\\\tmp4v5kom0r1Warp.nii.gz', 'C:\\\\Users\\\\Windows\\\\AppData\\\\Local\\\\Temp\\\\tmp4v5kom0r0GenericAffine.mat'], 'invtransforms': ['C:\\\\Users\\\\Windows\\\\AppData\\\\Local\\\\Temp\\\\tmp4v5kom0r0GenericAffine.mat', 'C:\\\\Users\\\\Windows\\\\AppData\\\\Local\\\\Temp\\\\tmp4v5kom0r1InverseWarp.nii.gz']}\n"
     ]
    }
   ],
   "source": [
    "print(transformation)"
   ]
  },
  {
   "cell_type": "code",
   "execution_count": 9,
   "metadata": {},
   "outputs": [
    {
     "data": {
      "application/vnd.jupyter.widget-view+json": {
       "model_id": "4a6523504e2f4ede9b92499940cb6b53",
       "version_major": 2,
       "version_minor": 0
      },
      "text/plain": [
       "interactive(children=(IntSlider(value=94, description='SLICE', max=188), Output()), _dom_classes=('widget-inte…"
      ]
     },
     "metadata": {},
     "output_type": "display_data"
    }
   ],
   "source": [
    "registered_img_ants = transformation['warpedmovout']\n",
    "\n",
    "explore_3D_array(arr=registered_img_ants.numpy())"
   ]
  },
  {
   "cell_type": "markdown",
   "metadata": {},
   "source": [
    "#### Move raw mask from native space."
   ]
  },
  {
   "cell_type": "code",
   "execution_count": 10,
   "metadata": {},
   "outputs": [
    {
     "name": "stdout",
     "output_type": "stream",
     "text": [
      "['-d', '3', '-i', '00000163B8EBC2B0', '-o', '00000163B8EBC2A0', '-r', '00000163B8EBC2F0', '-n', 'linear', '-t', 'C:\\\\Users\\\\Windows\\\\AppData\\\\Local\\\\Temp\\\\tmp4v5kom0r1Warp.nii.gz', '-t', 'C:\\\\Users\\\\Windows\\\\AppData\\\\Local\\\\Temp\\\\tmp4v5kom0r0GenericAffine.mat']\n"
     ]
    }
   ],
   "source": [
    "registered_mask_img_ants = ants.apply_transforms(\n",
    "    moving=mask_img_ants,\n",
    "    fixed=transformation['warpedmovout'],\n",
    "    transformlist=transformation['fwdtransforms'],\n",
    "    verbose=True\n",
    ")"
   ]
  },
  {
   "cell_type": "code",
   "execution_count": 11,
   "metadata": {},
   "outputs": [
    {
     "data": {
      "application/vnd.jupyter.widget-view+json": {
       "model_id": "9a2d3d50bcbc407e9f0538e65862f4f8",
       "version_major": 2,
       "version_minor": 0
      },
      "text/plain": [
       "interactive(children=(IntSlider(value=94, description='SLICE', max=188), Output()), _dom_classes=('widget-inte…"
      ]
     },
     "metadata": {},
     "output_type": "display_data"
    }
   ],
   "source": [
    "explore_3D_array_with_mask_contour(\n",
    "    arr=registered_img_ants.numpy(),\n",
    "    mask=registered_mask_img_ants.numpy()\n",
    ")"
   ]
  }
 ],
 "metadata": {
  "interpreter": {
   "hash": "418825faa255fc22419b3421ba9be6bb08852f7738a4e2e9757a921549f74527"
  },
  "kernelspec": {
   "display_name": "Python 3.7.1 64-bit ('.venv': venv)",
   "language": "python",
   "name": "python3"
  },
  "language_info": {
   "codemirror_mode": {
    "name": "ipython",
    "version": 3
   },
   "file_extension": ".py",
   "mimetype": "text/x-python",
   "name": "python",
   "nbconvert_exporter": "python",
   "pygments_lexer": "ipython3",
   "version": "3.11.3"
  },
  "orig_nbformat": 4
 },
 "nbformat": 4,
 "nbformat_minor": 2
}
