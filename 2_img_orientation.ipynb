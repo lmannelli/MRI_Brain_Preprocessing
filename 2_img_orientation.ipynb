{
 "cells": [
  {
   "cell_type": "markdown",
   "metadata": {},
   "source": [
    "### Image Operations"
   ]
  },
  {
   "cell_type": "code",
   "execution_count": 1,
   "metadata": {},
   "outputs": [
    {
     "name": "stdout",
     "output_type": "stream",
     "text": [
      "AntsPy version = 0.4.2\n",
      "SimpleITK version = 2.3.1\n"
     ]
    }
   ],
   "source": [
    "%matplotlib inline\n",
    "\n",
    "import os\n",
    "from help_functions import *\n",
    "\n",
    "import ants\n",
    "import SimpleITK as sitk\n",
    "\n",
    "print(f'AntsPy version = {ants.__version__}')\n",
    "print(f'SimpleITK version = {sitk.__version__}')"
   ]
  },
  {
   "cell_type": "code",
   "execution_count": 2,
   "metadata": {},
   "outputs": [
    {
     "name": "stdout",
     "output_type": "stream",
     "text": [
      "project folder = c:\\Users\\Windows\\Desktop\\GBM_Segmentation\n"
     ]
    }
   ],
   "source": [
    "BASE_DIR = os.path.dirname(os.path.dirname(os.path.abspath(\"__file__\")))\n",
    "print(f'project folder = {BASE_DIR}')"
   ]
  },
  {
   "cell_type": "code",
   "execution_count": 3,
   "metadata": {},
   "outputs": [
    {
     "name": "stdout",
     "output_type": "stream",
     "text": [
      "raw_img_path = c:\\Users\\Windows\\Desktop\\GBM_Segmentation\\Brain_Extraction\\sub-01\\anat\\sub-01_T1w.nii\n"
     ]
    }
   ],
   "source": [
    "raw_img_path = os.path.join(BASE_DIR, 'Brain_Extraction', 'sub-01', 'anat', 'sub-01_T1w.nii')\n",
    "print(f'raw_img_path = {raw_img_path}')"
   ]
  },
  {
   "cell_type": "markdown",
   "metadata": {},
   "source": [
    "AntsPY"
   ]
  },
  {
   "cell_type": "code",
   "execution_count": 4,
   "metadata": {},
   "outputs": [
    {
     "name": "stdout",
     "output_type": "stream",
     "text": [
      "ANTsImage (LPI)\n",
      "\t Pixel Type : float (float32)\n",
      "\t Components : 1\n",
      "\t Dimensions : (208, 300, 320)\n",
      "\t Spacing    : (0.8, 0.8, 0.8)\n",
      "\t Origin     : (79.5096, 98.5118, -157.9496)\n",
      "\t Direction  : [-0.9994  0.0341 -0.0108 -0.0343 -0.9992  0.0195 -0.0101  0.0199  0.9998]\n",
      "\n"
     ]
    }
   ],
   "source": [
    "raw_img_ants = ants.image_read(raw_img_path) \n",
    "print(raw_img_ants)"
   ]
  },
  {
   "cell_type": "code",
   "execution_count": 5,
   "metadata": {},
   "outputs": [
    {
     "name": "stdout",
     "output_type": "stream",
     "text": [
      "LPI\n"
     ]
    }
   ],
   "source": [
    "# LPI = Left-to-right, Posterior-to-anterior, Inferior-to-superior\n",
    "print(raw_img_ants.get_orientation())"
   ]
  },
  {
   "cell_type": "code",
   "execution_count": 6,
   "metadata": {},
   "outputs": [
    {
     "name": "stdout",
     "output_type": "stream",
     "text": [
      "LPI\n",
      "(208, 300, 320) -> (Z,Y,X)\n"
     ]
    }
   ],
   "source": [
    "arr = raw_img_ants.numpy()\n",
    "print(raw_img_ants.get_orientation())\n",
    "print(arr.shape, '-> (Z,Y,X)')"
   ]
  },
  {
   "cell_type": "code",
   "execution_count": 7,
   "metadata": {},
   "outputs": [
    {
     "name": "stdout",
     "output_type": "stream",
     "text": [
      "LPI\n",
      "(208, 300, 320) -> (Z,Y,X)\n"
     ]
    },
    {
     "data": {
      "application/vnd.jupyter.widget-view+json": {
       "model_id": "49e3b6fa229945f48c6142e2491c7ed9",
       "version_major": 2,
       "version_minor": 0
      },
      "text/plain": [
       "interactive(children=(IntSlider(value=103, description='SLICE', max=207), Output()), _dom_classes=('widget-int…"
      ]
     },
     "metadata": {},
     "output_type": "display_data"
    }
   ],
   "source": [
    "# LPI = Left-to-right, Posterior-to-anterior, Inferior-to-superior\n",
    "arr = raw_img_ants.numpy()\n",
    "print(raw_img_ants.get_orientation())\n",
    "print(arr.shape, '-> (Z,Y,X)')\n",
    "explore_3D_array(arr=raw_img_ants.numpy()) \n",
    "#if we go along the first axis, we can confirm that the first dimension is going from th left of the head to the right side of the head\n",
    "#the second axis goes from the top to the bottom, in the twho dimensional plot we have posterior to anterior \n",
    "# the third axis it goes from left to right in te two dimensional plot, this is from inferior to superior\n"
   ]
  },
  {
   "cell_type": "code",
   "execution_count": null,
   "metadata": {},
   "outputs": [],
   "source": [
    "# Pixel arrangement\n",
    "# Z, Y, X = (↑,↓,→)"
   ]
  },
  {
   "cell_type": "code",
   "execution_count": 8,
   "metadata": {},
   "outputs": [
    {
     "name": "stdout",
     "output_type": "stream",
     "text": [
      "IAL\n",
      "(208, 300, 320) -> (Z,Y,X)\n"
     ]
    },
    {
     "data": {
      "application/vnd.jupyter.widget-view+json": {
       "model_id": "1cdaa29ad4cc4334994b2708619c7bea",
       "version_major": 2,
       "version_minor": 0
      },
      "text/plain": [
       "interactive(children=(IntSlider(value=159, description='SLICE', max=319), Output()), _dom_classes=('widget-int…"
      ]
     },
     "metadata": {},
     "output_type": "display_data"
    }
   ],
   "source": [
    "# LPI = Left-to-right, Posterior-to-anterior, Inferior-to-superior\n",
    "# IAL = Inferior-to-superior, Anterior-to-posterior, Left-to-right\n",
    "raw_img_ants = ants.image_read(raw_img_path, reorient='IAL') \n",
    "\n",
    "print(raw_img_ants.get_orientation())\n",
    "print(arr.shape, '-> (Z,Y,X)')\n",
    "explore_3D_array(arr=raw_img_ants.numpy()) "
   ]
  },
  {
   "cell_type": "markdown",
   "metadata": {},
   "source": [
    "Simple ITK"
   ]
  },
  {
   "cell_type": "code",
   "execution_count": 9,
   "metadata": {},
   "outputs": [],
   "source": [
    "raw_img_sitk = sitk.ReadImage(raw_img_path, sitk.sitkFloat32)"
   ]
  },
  {
   "cell_type": "code",
   "execution_count": 10,
   "metadata": {},
   "outputs": [
    {
     "name": "stdout",
     "output_type": "stream",
     "text": [
      "(320, 300, 208)\n"
     ]
    },
    {
     "data": {
      "application/vnd.jupyter.widget-view+json": {
       "model_id": "740f6ddb2a7341c79a6b4d439929e9d6",
       "version_major": 2,
       "version_minor": 0
      },
      "text/plain": [
       "interactive(children=(IntSlider(value=159, description='SLICE', max=319), Output()), _dom_classes=('widget-int…"
      ]
     },
     "metadata": {},
     "output_type": "display_data"
    }
   ],
   "source": [
    "raw_img_sitk_arr = sitk.GetArrayFromImage(raw_img_sitk)\n",
    "print(raw_img_sitk_arr.shape)\n",
    "explore_3D_array(raw_img_sitk_arr)"
   ]
  },
  {
   "cell_type": "markdown",
   "metadata": {},
   "source": [
    "For AntsPy:\n",
    "\n",
    "- Internal axis are (Z,Y,X). It means, when we get numpy array dimensions are (Z,Y,X)\n",
    "- When we define orientation, orientation string is according to internal axis.\n",
    "\n",
    "For SimpleITK:\n",
    "\n",
    "- Internal axis are (X,Y,Z). It means, when we get numpy array dimensions are (Z,Y,X) i.e. shifted.\n",
    "- When we define orientation, orientation string is according to internal axis.\n",
    "- The orientation string is set with the latest letter, e.g. :\n",
    "    - \"RPS\" = (left-to-Right, anterior-to-Posterior, inferior-to-Superior)\n",
    "    - \"PSR\" = (anterior-to-Posterior, inferior-to-Superior, left-to-Right)"
   ]
  },
  {
   "cell_type": "code",
   "execution_count": 11,
   "metadata": {},
   "outputs": [
    {
     "name": "stdout",
     "output_type": "stream",
     "text": [
      "(320, 300, 208)\n"
     ]
    },
    {
     "data": {
      "application/vnd.jupyter.widget-view+json": {
       "model_id": "ecd5c7f197f249bf8aaf47c91b43bbde",
       "version_major": 2,
       "version_minor": 0
      },
      "text/plain": [
       "interactive(children=(IntSlider(value=159, description='SLICE', max=319), Output()), _dom_classes=('widget-int…"
      ]
     },
     "metadata": {},
     "output_type": "display_data"
    }
   ],
   "source": [
    "raw_img_sitk = sitk.ReadImage(raw_img_path, sitk.sitkFloat32)\n",
    "raw_img_sitk = sitk.DICOMOrient(raw_img_sitk,'RPS')\n",
    "\n",
    "raw_img_sitk_arr = sitk.GetArrayFromImage(raw_img_sitk)\n",
    "print(raw_img_sitk_arr.shape)\n",
    "explore_3D_array(raw_img_sitk_arr)"
   ]
  },
  {
   "cell_type": "code",
   "execution_count": null,
   "metadata": {},
   "outputs": [],
   "source": [
    "# Internal Pixel arrangement for SimpleItk\n",
    "# (X, Y, Z) = (→, ↓, ↑)"
   ]
  }
 ],
 "metadata": {
  "kernelspec": {
   "display_name": ".venv",
   "language": "python",
   "name": "python3"
  },
  "language_info": {
   "codemirror_mode": {
    "name": "ipython",
    "version": 3
   },
   "file_extension": ".py",
   "mimetype": "text/x-python",
   "name": "python",
   "nbconvert_exporter": "python",
   "pygments_lexer": "ipython3",
   "version": "3.11.3"
  }
 },
 "nbformat": 4,
 "nbformat_minor": 2
}
